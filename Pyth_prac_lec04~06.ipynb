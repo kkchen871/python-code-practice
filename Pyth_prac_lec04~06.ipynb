{
 "cells": [
  {
   "cell_type": "code",
   "execution_count": 9,
   "metadata": {},
   "outputs": [
    {
     "name": "stdout",
     "output_type": "stream",
     "text": [
      "2\n",
      "2\n",
      "3\n",
      "3\n",
      "5\n"
     ]
    }
   ],
   "source": [
    "def prime_factors(n):\n",
    "    while  n>1:\n",
    "        k=smallest_prime_factor(n)\n",
    "        n=n//k #n除以k取整數\n",
    "        print(k)\n",
    "def smallest_prime_factor(n):\n",
    "    k=2\n",
    "    while n % k != 0: #n除以k的餘數\n",
    "        k=k+1\n",
    "    return k\n",
    "    \n",
    "    \n",
    "\n",
    "prime_factors(180)\n",
    "\n"
   ]
  },
  {
   "cell_type": "markdown",
   "metadata": {},
   "source": [
    "\n",
    "Iteration(ex Fibonacci)"
   ]
  },
  {
   "cell_type": "code",
   "execution_count": 11,
   "metadata": {},
   "outputs": [
    {
     "data": {
      "text/plain": [
       "5"
      ]
     },
     "execution_count": 11,
     "metadata": {},
     "output_type": "execute_result"
    }
   ],
   "source": [
    "def feb(n):\n",
    "    #''''''Compute the nth Fibonacci number''''''\n",
    "    pred, curr = 0, 1  #pred ,curr = 1, 0\n",
    "    k=1                #k=0\n",
    "    while k < n :      #修改完後可以算出第零項\n",
    "        pred, curr = curr, pred+curr\n",
    "        k=k+1\n",
    "    return k\n",
    "feb(5)"
   ]
  },
  {
   "cell_type": "markdown",
   "metadata": {},
   "source": [
    "Guide to define functions\n",
    "1. Give each function exactly one job\n",
    "2. Don't repeat yourself(DRY). Implement a process just once, but execute it many times\n",
    "3. Define functions generally"
   ]
  },
  {
   "cell_type": "markdown",
   "metadata": {},
   "source": [
    "Boolean message !\n",
    "assertion"
   ]
  },
  {
   "cell_type": "code",
   "execution_count": null,
   "metadata": {},
   "outputs": [],
   "source": [
    "from math import pi, sqrt\n",
    "def area_square(r):\n",
    "    assert r > 0, 'A length must be positive'\n",
    "    return r*r\n",
    "def area_circle(r):\n",
    "    assert r > 0, 'A length must be positive'\n",
    "    return r*r*pi\n",
    "def area_hexagon(r):\n",
    "    assert r > 0, 'A length must be positive'\n",
    "    return r*r*3*sqrt(3)/2\n",
    "area_square(-10)\n"
   ]
  },
  {
   "cell_type": "markdown",
   "metadata": {},
   "source": [
    "DRY "
   ]
  },
  {
   "cell_type": "code",
   "execution_count": 15,
   "metadata": {},
   "outputs": [
    {
     "ename": "AssertionError",
     "evalue": "A length must be positive",
     "output_type": "error",
     "traceback": [
      "\u001b[1;31m---------------------------------------------------------------------------\u001b[0m",
      "\u001b[1;31mAssertionError\u001b[0m                            Traceback (most recent call last)",
      "Cell \u001b[1;32mIn[15], line 12\u001b[0m\n\u001b[0;32m     10\u001b[0m \u001b[39mdef\u001b[39;00m \u001b[39marea_hexagon\u001b[39m(r):\n\u001b[0;32m     11\u001b[0m     \u001b[39mreturn\u001b[39;00m area(r,\u001b[39m3\u001b[39m\u001b[39m*\u001b[39msqrt(\u001b[39m3\u001b[39m)\u001b[39m/\u001b[39m\u001b[39m2\u001b[39m)\n\u001b[1;32m---> 12\u001b[0m area_square(\u001b[39m-\u001b[39;49m\u001b[39m10\u001b[39;49m)\n",
      "Cell \u001b[1;32mIn[15], line 7\u001b[0m, in \u001b[0;36marea_square\u001b[1;34m(r)\u001b[0m\n\u001b[0;32m      6\u001b[0m \u001b[39mdef\u001b[39;00m \u001b[39marea_square\u001b[39m(r):\n\u001b[1;32m----> 7\u001b[0m     \u001b[39mreturn\u001b[39;00m area(r,\u001b[39m1\u001b[39;49m)\n",
      "Cell \u001b[1;32mIn[15], line 3\u001b[0m, in \u001b[0;36marea\u001b[1;34m(r, shape_constant)\u001b[0m\n\u001b[0;32m      2\u001b[0m \u001b[39mdef\u001b[39;00m \u001b[39marea\u001b[39m(r, shape_constant):\n\u001b[1;32m----> 3\u001b[0m     \u001b[39massert\u001b[39;00m r \u001b[39m>\u001b[39m \u001b[39m0\u001b[39m, \u001b[39m'\u001b[39m\u001b[39mA length must be positive\u001b[39m\u001b[39m'\u001b[39m\n\u001b[0;32m      4\u001b[0m     \u001b[39mreturn\u001b[39;00m r\u001b[39m*\u001b[39mr\u001b[39m*\u001b[39mshape_constant\n",
      "\u001b[1;31mAssertionError\u001b[0m: A length must be positive"
     ]
    }
   ],
   "source": [
    "from math import pi, sqrt\n",
    "def area(r, shape_constant):\n",
    "    assert r > 0, 'A length must be positive'\n",
    "    return r*r*shape_constant\n",
    "    \n",
    "def area_square(r):\n",
    "    return area(r,1)\n",
    "def area_circle(r):\n",
    "    return area(r,pi)\n",
    "def area_hexagon(r):\n",
    "    return area(r,3*sqrt(3)/2)\n",
    "area_square(-10)\n"
   ]
  },
  {
   "cell_type": "markdown",
   "metadata": {},
   "source": [
    "Generalization of function\n",
    "1. function 的 imput 也可以放 function \n",
    "2. ex: 考慮數列和\n"
   ]
  },
  {
   "cell_type": "code",
   "execution_count": 24,
   "metadata": {},
   "outputs": [
    {
     "data": {
      "text/plain": [
       "1"
      ]
     },
     "execution_count": 24,
     "metadata": {},
     "output_type": "execute_result"
    }
   ],
   "source": [
    "def sum_naturals(n):\n",
    "    # Sum of the first N natural numbers\n",
    "    total, k = 0, 1\n",
    "    while k <= n:\n",
    "        total, k = total + k, k + 1\n",
    "    return total\n",
    "\n",
    "def sum_cubes(n):\n",
    "    # Sum the first N cubes of natural number\n",
    "    total, k = 0, 1\n",
    "    while k <= n:\n",
    "        total, k = total + pow(k, 3), k + 1  # 不能使用 k^3 , output 不相同\n",
    "    return total\n",
    "\n",
    "sum_cubes(3)"
   ]
  },
  {
   "cell_type": "markdown",
   "metadata": {},
   "source": [
    "很多重複的部分，可以簡化一些"
   ]
  },
  {
   "cell_type": "code",
   "execution_count": 27,
   "metadata": {},
   "outputs": [
    {
     "data": {
      "text/plain": [
       "(6, 3.1415426535898203)"
      ]
     },
     "execution_count": 27,
     "metadata": {},
     "output_type": "execute_result"
    }
   ],
   "source": [
    "def identity(k):\n",
    "    return(k)\n",
    "def cube(k):\n",
    "    return(pow(k, 3))\n",
    "\n",
    "from operator import mul\n",
    "def pi_term(k):\n",
    "    return 8 / mul(4*k-3,4*k-1) \n",
    "\n",
    "\n",
    "def summation(n, term):\n",
    "    total, k = 0, 1\n",
    "    while k <= n:\n",
    "        total, k = total + term(k), k+1\n",
    "    return total\n",
    "\n",
    "def sum_naturals(n):\n",
    "    return summation(n, identity)\n",
    "def sum_cubes(n):\n",
    "    return summation(n, cube) \n",
    "\n",
    "\n",
    "sum_naturals(3), summation(10000, pi_term)"
   ]
  },
  {
   "cell_type": "markdown",
   "metadata": {},
   "source": [
    "Generalization of function\n",
    "1. function 的 output 可以放 function \n"
   ]
  },
  {
   "cell_type": "code",
   "execution_count": 31,
   "metadata": {},
   "outputs": [
    {
     "data": {
      "text/plain": [
       "(3, 2013)"
      ]
     },
     "execution_count": 31,
     "metadata": {},
     "output_type": "execute_result"
    }
   ],
   "source": [
    "def make_adder(n):\n",
    "\n",
    "    def adder(k):\n",
    "        return k + n\n",
    "    return adder\n",
    "f = make_adder(2000)\n",
    "make_adder(1)(2),f(13)"
   ]
  },
  {
   "cell_type": "markdown",
   "metadata": {},
   "source": [
    "Note : High-order function : A function that has a function in input or output \n",
    "1. remove repetitions from programs\n",
    "2. seperate concerns among functions"
   ]
  },
  {
   "cell_type": "code",
   "execution_count": 39,
   "metadata": {},
   "outputs": [
    {
     "data": {
      "text/plain": [
       "(120, 120, 24)"
      ]
     },
     "execution_count": 39,
     "metadata": {},
     "output_type": "execute_result"
    }
   ],
   "source": [
    "# questions from lab01\n",
    "def falling(n,k):\n",
    "    #falling(6,3) = 6*5*4 = 120\n",
    "    #falling(4,3) = 4*3*2 = 24\n",
    "    Ans = n \n",
    "    while k > 1:\n",
    "        n, k = n - 1, k - 1\n",
    "        Ans = Ans *  n\n",
    "    return Ans\n",
    "\n",
    "falling (5,4), falling(6,3), falling(4,3)"
   ]
  },
  {
   "cell_type": "code",
   "execution_count": 38,
   "metadata": {},
   "outputs": [
    {
     "data": {
      "text/plain": [
       "256"
      ]
     },
     "execution_count": 38,
     "metadata": {},
     "output_type": "execute_result"
    }
   ],
   "source": [
    "# lecture 05\n",
    "\n",
    "def apply_twice(f, x):\n",
    "    return f(f(x))\n",
    "\n",
    "def square(x):\n",
    "    return x*x\n",
    "\n",
    "apply_twice(square,4)"
   ]
  },
  {
   "cell_type": "code",
   "execution_count": 40,
   "metadata": {},
   "outputs": [
    {
     "data": {
      "text/plain": [
       "11"
      ]
     },
     "execution_count": 40,
     "metadata": {},
     "output_type": "execute_result"
    }
   ],
   "source": [
    "def make_adder(n):\n",
    "    def adder(k):\n",
    "        return n+k\n",
    "    return adder\n",
    "\n",
    "add_three=make_adder(3)\n",
    "add_three(8)"
   ]
  },
  {
   "cell_type": "code",
   "execution_count": 48,
   "metadata": {},
   "outputs": [
    {
     "data": {
      "text/plain": [
       "(16, 16)"
      ]
     },
     "execution_count": 48,
     "metadata": {},
     "output_type": "execute_result"
    }
   ],
   "source": [
    "def compose1(f,g):\n",
    "    def h(x):\n",
    "        return f(g(x))\n",
    "    return h\n",
    "squadder = compose1(square,make_adder(2))\n",
    "compose1(square,make_adder(2))(2), squadder(2)"
   ]
  },
  {
   "cell_type": "markdown",
   "metadata": {},
   "source": [
    "! Lambda expressions (不用特別另一個函數，有一種簡寫的感覺)"
   ]
  },
  {
   "cell_type": "code",
   "execution_count": 51,
   "metadata": {},
   "outputs": [
    {
     "data": {
      "text/plain": [
       "(4, 4)"
      ]
     },
     "execution_count": 51,
     "metadata": {},
     "output_type": "execute_result"
    }
   ],
   "source": [
    "square = lambda x: x*x\n",
    "# there is no return in lambda expression\n",
    "# also it can't contain statements\n",
    "square(2), (lambda y: y*y)(2) "
   ]
  }
 ],
 "metadata": {
  "kernelspec": {
   "display_name": "Python 3",
   "language": "python",
   "name": "python3"
  },
  "language_info": {
   "codemirror_mode": {
    "name": "ipython",
    "version": 3
   },
   "file_extension": ".py",
   "mimetype": "text/x-python",
   "name": "python",
   "nbconvert_exporter": "python",
   "pygments_lexer": "ipython3",
   "version": "3.11.4"
  },
  "orig_nbformat": 4
 },
 "nbformat": 4,
 "nbformat_minor": 2
}
