{
 "cells": [
  {
   "cell_type": "code",
   "execution_count": 1,
   "metadata": {},
   "outputs": [
    {
     "data": {
      "text/plain": [
       "4"
      ]
     },
     "execution_count": 1,
     "metadata": {},
     "output_type": "execute_result"
    }
   ],
   "source": [
    "a=1\n",
    "def f(g):\n",
    "    a=2\n",
    "    return lambda y: a*g(y)\n",
    "f(lambda y : a+y)(a)"
   ]
  },
  {
   "cell_type": "code",
   "execution_count": 6,
   "metadata": {},
   "outputs": [
    {
     "data": {
      "text/plain": [
       "(3, True)"
      ]
     },
     "execution_count": 6,
     "metadata": {},
     "output_type": "execute_result"
    }
   ],
   "source": [
    "def search(f):\n",
    "    x=0\n",
    "    while True:\n",
    "        if f(x):\n",
    "            return x\n",
    "        x += 1\n",
    "#也可以\n",
    "def search(f):\n",
    "    x=0\n",
    "    while not f(x):\n",
    "        x += 1\n",
    "        \n",
    "def is_three(x):\n",
    "    return x==3\n",
    "search(is_three), is_three(3)"
   ]
  },
  {
   "cell_type": "code",
   "execution_count": 8,
   "metadata": {},
   "outputs": [
    {
     "data": {
      "text/plain": [
       "11"
      ]
     },
     "execution_count": 8,
     "metadata": {},
     "output_type": "execute_result"
    }
   ],
   "source": [
    "def square(x):\n",
    "    return x*x\n",
    "def positive(x):\n",
    "    return max(0, square(x)-100)\n",
    "search(positive)"
   ]
  },
  {
   "cell_type": "code",
   "execution_count": 11,
   "metadata": {},
   "outputs": [
    {
     "data": {
      "text/plain": [
       "16"
      ]
     },
     "execution_count": 11,
     "metadata": {},
     "output_type": "execute_result"
    }
   ],
   "source": [
    "def inverse(f):\n",
    "    #return  g(y) s.t. g(f(x))=x\n",
    "    return lambda y : search(lambda x: f(x)==y)\n",
    "sqrt=inverse(square)\n",
    "sqrt(256)"
   ]
  },
  {
   "cell_type": "markdown",
   "metadata": {},
   "source": [
    "def 可以去帶if 嗎?\n",
    "#不行\n",
    "Control statement 的重要性"
   ]
  },
  {
   "cell_type": "code",
   "execution_count": 12,
   "metadata": {},
   "outputs": [
    {
     "ename": "ModuleNotFoundError",
     "evalue": "No module named 'match'",
     "output_type": "error",
     "traceback": [
      "\u001b[1;31m---------------------------------------------------------------------------\u001b[0m",
      "\u001b[1;31mModuleNotFoundError\u001b[0m                       Traceback (most recent call last)",
      "Cell \u001b[1;32mIn[12], line 6\u001b[0m\n\u001b[0;32m      4\u001b[0m     \u001b[39melse\u001b[39;00m:\n\u001b[0;32m      5\u001b[0m         \u001b[39mreturn\u001b[39;00m f\n\u001b[1;32m----> 6\u001b[0m \u001b[39mfrom\u001b[39;00m \u001b[39mmatch\u001b[39;00m \u001b[39mimport\u001b[39;00m sqrt\n\u001b[0;32m      8\u001b[0m \u001b[39mdef\u001b[39;00m \u001b[39mreal_sqrt\u001b[39m(x):\n\u001b[0;32m      9\u001b[0m     \u001b[39mreturn\u001b[39;00m if_(x\u001b[39m>\u001b[39m\u001b[39m=\u001b[39m\u001b[39m0\u001b[39m, sqrt, \u001b[39m0\u001b[39m)\n",
      "\u001b[1;31mModuleNotFoundError\u001b[0m: No module named 'match'"
     ]
    }
   ],
   "source": [
    "def if_(c,t,f):\n",
    "    if c:\n",
    "        return t\n",
    "    else:\n",
    "        return f\n",
    "from match import sqrt\n",
    "\n",
    "def real_sqrt(x):\n",
    "    return if_(x>=0, sqrt, 0)\n",
    "#在outupt 0 之前就因為sqrt fun 產生error\n",
    "sqrt(-16)\n"
   ]
  },
  {
   "cell_type": "code",
   "execution_count": 14,
   "metadata": {},
   "outputs": [
    {
     "data": {
      "text/plain": [
       "(True, False, False)"
      ]
     },
     "execution_count": 14,
     "metadata": {},
     "output_type": "execute_result"
    }
   ],
   "source": [
    "def has_big_sqrt(x):\n",
    "    return x>0 and sqrt(x)>10\n",
    "def reasonable(n):\n",
    "    return n==0 or 1/n !=0\n",
    "has_big_sqrt(121), has_big_sqrt(-121), reasonable(10 **1000) #10的1000次方\n"
   ]
  },
  {
   "cell_type": "markdown",
   "metadata": {},
   "source": [
    "以下為 meeting 討論練習"
   ]
  },
  {
   "cell_type": "code",
   "execution_count": 50,
   "metadata": {},
   "outputs": [
    {
     "data": {
      "text/plain": [
       "[1, 1, 1, 1]"
      ]
     },
     "execution_count": 50,
     "metadata": {},
     "output_type": "execute_result"
    }
   ],
   "source": [
    "def list_partitions(n, m):\n",
    "    if n < 0 or m==0:\n",
    "        return []\n",
    "    else:\n",
    "        exact_match=[]\n",
    "        if n==m:\n",
    "            exact_match=[[m]]\n",
    "        with_m=[p+[m] for p in list_partitions(n-m,m)]\n",
    "        without_m=list_partitions(n,m-1)\n",
    "        return exact_match + with_m + without_m\n",
    "list_partitions(6,3)\n",
    "list_partitions(2,1)"
   ]
  },
  {
   "cell_type": "code",
   "execution_count": 48,
   "metadata": {},
   "outputs": [
    {
     "name": "stdout",
     "output_type": "stream",
     "text": [
      "[1, 1, 1, 1]\n"
     ]
    }
   ],
   "source": [
    "def t(x):\n",
    "    m=[[1]]\n",
    "    if True:\n",
    "        return m+m\n",
    "t(1)\n",
    "for p in list_partitions(2,1): print(p+p)"
   ]
  },
  {
   "cell_type": "code",
   "execution_count": 44,
   "metadata": {},
   "outputs": [
    {
     "name": "stdout",
     "output_type": "stream",
     "text": [
      "[[2, 1, 3, 5]] [[5, 5], [5]]\n"
     ]
    }
   ],
   "source": [
    "a=[[2]+[1]+[3]]\n",
    "m=[5]\n",
    "k=[p+m for p in a]\n",
    "print(k,[m+m]+[[5]])"
   ]
  },
  {
   "cell_type": "markdown",
   "metadata": {},
   "source": [
    "~~~~~~~~~~~~~~~~~~~~~~~~~~~~~~~~~~~~~~~~~~~~~分隔線以下繼續筆記"
   ]
  },
  {
   "cell_type": "markdown",
   "metadata": {},
   "source": [
    "Midterm 考古~~~~~~~~~~~~~~~~~~~~~~~~~~~~~~~~~~~~~~~~~~~~~~~~~"
   ]
  },
  {
   "cell_type": "code",
   "execution_count": 10,
   "metadata": {},
   "outputs": [
    {
     "name": "stdout",
     "output_type": "stream",
     "text": [
      "delayed\n",
      "delayed\n",
      "hi\n",
      "None\n"
     ]
    }
   ],
   "source": [
    "def delay(arg):\n",
    "    print('delayed')\n",
    "    def g():\n",
    "        return arg\n",
    "    return g\n",
    "delay(delay)()(6)()\n",
    "# 從左至右需要 input 再來抓input\n",
    "# 兩個()()都是for g 的 input\n"
   ]
  },
  {
   "cell_type": "code",
   "execution_count": 24,
   "metadata": {},
   "outputs": [
    {
     "name": "stdout",
     "output_type": "stream",
     "text": [
      "delayed\n",
      "4\n",
      "None\n"
     ]
    }
   ],
   "source": [
    "print(delay(print)()(4))\n",
    "# print 的值存成 none ， 所以print(print('fqwe')) 會 output : fqwe none"
   ]
  },
  {
   "cell_type": "markdown",
   "metadata": {},
   "source": [
    "Question\n",
    "1. 為什麼不是 3 個 matey"
   ]
  },
  {
   "cell_type": "code",
   "execution_count": 46,
   "metadata": {},
   "outputs": [
    {
     "name": "stdout",
     "output_type": "stream",
     "text": [
      "matey\n",
      "matey\n",
      "matey\n"
     ]
    },
    {
     "data": {
      "text/plain": [
       "5"
      ]
     },
     "execution_count": 46,
     "metadata": {},
     "output_type": "execute_result"
    }
   ],
   "source": [
    "def pirate(arggg):\n",
    "    print('matey')\n",
    "    def plunder(arggg):\n",
    "        return arggg \n",
    "    return plunder \n",
    "pirate(pirate(pirate))(5)\n"
   ]
  },
  {
   "cell_type": "code",
   "execution_count": 59,
   "metadata": {},
   "outputs": [
    {
     "ename": "SyntaxError",
     "evalue": "invalid syntax (3027255412.py, line 3)",
     "output_type": "error",
     "traceback": [
      "\u001b[1;36m  Cell \u001b[1;32mIn[59], line 3\u001b[1;36m\u001b[0m\n\u001b[1;33m    \"\"\"\"\"\"fqw\u001b[0m\n\u001b[1;37m          ^\u001b[0m\n\u001b[1;31mSyntaxError\u001b[0m\u001b[1;31m:\u001b[0m invalid syntax\n"
     ]
    }
   ],
   "source": [
    "def horse (mask) : \n",
    "    horse = mask  \n",
    "    def mask(horse) : \n",
    "        return horse \n",
    "    return horse(mask) \n",
    "mask = lambda horse : horse(2)\n",
    "horse(mask)"
   ]
  },
  {
   "cell_type": "markdown",
   "metadata": {},
   "source": [
    "list 從 0 開始"
   ]
  },
  {
   "cell_type": "code",
   "execution_count": 60,
   "metadata": {},
   "outputs": [
    {
     "data": {
      "text/plain": [
       "0"
      ]
     },
     "execution_count": 60,
     "metadata": {},
     "output_type": "execute_result"
    }
   ],
   "source": [
    "digits = [1, 8, 2, 8]\n",
    "len(digits)\n",
    "digits[0],digits[1],digits[2],digits[3]\n"
   ]
  },
  {
   "cell_type": "code",
   "execution_count": 62,
   "metadata": {},
   "outputs": [
    {
     "data": {
      "text/plain": [
       "(21, 4313)"
      ]
     },
     "execution_count": 62,
     "metadata": {},
     "output_type": "execute_result"
    }
   ],
   "source": [
    "def remove(n, digit):\n",
    "# Returm all digits of non-negative N that are not DIGIT, \n",
    "# for some non-negative DIGIT less than 10.\n",
    "    kept, digits = 0, 0\n",
    "    while  n>0 :\n",
    "        n, last = n // 10, n % 10\n",
    "        if last != digit :\n",
    "            kept = kept + last*pow(10,digits) #10**digits = pow (10, digits)\n",
    "            digits = digits + 1\n",
    "    return kept\n",
    "remove(231,3), remove(243132, 2)"
   ]
  },
  {
   "cell_type": "markdown",
   "metadata": {},
   "source": [
    "Decorators\n",
    "<pre><code>\n",
    "    @trace\n",
    "    def square(x):\n",
    "        return x*x\n",
    "</code></pre>\n",
    "\n",
    "跟下面的表達式一樣\n",
    "\n",
    "<pre><code>\n",
    "    def square(x):\n",
    "        return x*x\n",
    "    square = trace(square)\n",
    "</code></pre>\n",
    "\n",
    "For example:\n"
   ]
  },
  {
   "cell_type": "code",
   "execution_count": 5,
   "metadata": {},
   "outputs": [
    {
     "name": "stdout",
     "output_type": "stream",
     "text": [
      "Calling <function sum_squares_up_to at 0x0000021E208E1580> on argument 10\n",
      "Calling <function square at 0x0000021E208E1F80> on argument 1\n",
      "1\n",
      "Calling <function square at 0x0000021E208E1F80> on argument 2\n",
      "5\n",
      "Calling <function square at 0x0000021E208E1F80> on argument 3\n",
      "14\n",
      "Calling <function square at 0x0000021E208E1F80> on argument 4\n",
      "30\n",
      "Calling <function square at 0x0000021E208E1F80> on argument 5\n",
      "55\n",
      "Calling <function square at 0x0000021E208E1F80> on argument 6\n",
      "91\n",
      "Calling <function square at 0x0000021E208E1F80> on argument 7\n",
      "140\n",
      "Calling <function square at 0x0000021E208E1F80> on argument 8\n",
      "204\n",
      "Calling <function square at 0x0000021E208E1F80> on argument 9\n",
      "285\n",
      "Calling <function square at 0x0000021E208E1F80> on argument 10\n",
      "385\n"
     ]
    },
    {
     "data": {
      "text/plain": [
       "385"
      ]
     },
     "execution_count": 5,
     "metadata": {},
     "output_type": "execute_result"
    }
   ],
   "source": [
    "def trace1(fn):\n",
    "    def traced(x):\n",
    "        print('Calling', fn, 'on argument', x)\n",
    "        return fn(x)\n",
    "    return traced\n",
    "\n",
    "@trace1\n",
    "def square(x):\n",
    "    return x*x\n",
    "\n",
    "@trace1 \n",
    "def sum_squares_up_to(n):\n",
    "    k=1\n",
    "    total=0\n",
    "    while k<=n:\n",
    "        k, total = k + 1, total + square(k)\n",
    "        print(total)\n",
    "    return total\n",
    "\n",
    "sum_squares_up_to(10)\n",
    "    "
   ]
  },
  {
   "cell_type": "code",
   "execution_count": 7,
   "metadata": {},
   "outputs": [
    {
     "name": "stdout",
     "output_type": "stream",
     "text": [
      "1\n",
      "2\n",
      "3\n"
     ]
    },
    {
     "data": {
      "text/plain": [
       "<function __main__.print_all(x)>"
      ]
     },
     "execution_count": 7,
     "metadata": {},
     "output_type": "execute_result"
    }
   ],
   "source": [
    "def print_all(x):\n",
    "    print(x)\n",
    "    return print_all\n",
    "print_all(1)(2)(3)"
   ]
  },
  {
   "cell_type": "code",
   "execution_count": 8,
   "metadata": {},
   "outputs": [
    {
     "name": "stdout",
     "output_type": "stream",
     "text": [
      "1\n",
      "3\n",
      "8\n"
     ]
    },
    {
     "data": {
      "text/plain": [
       "<function __main__.print_sum.<locals>.next_sum(y)>"
      ]
     },
     "execution_count": 8,
     "metadata": {},
     "output_type": "execute_result"
    }
   ],
   "source": [
    "def print_sum(x):\n",
    "    print(x)\n",
    "    def next_sum(y):\n",
    "        return print_sum(x+y)\n",
    "    return next_sum\n",
    "\n",
    "print_sum(1)(2)(5)"
   ]
  },
  {
   "cell_type": "markdown",
   "metadata": {},
   "source": [
    "Recursive"
   ]
  },
  {
   "cell_type": "code",
   "execution_count": 9,
   "metadata": {},
   "outputs": [
    {
     "data": {
      "text/plain": [
       "15"
      ]
     },
     "execution_count": 9,
     "metadata": {},
     "output_type": "execute_result"
    }
   ],
   "source": [
    "def split(n):\n",
    "    return n//10, n%10\n",
    "\n",
    "def sum_digits(n):\n",
    "    if n < 10:\n",
    "        return n\n",
    "    else:\n",
    "        all_but_last, last = split(n)\n",
    "    return sum_digits(all_but_last) + last\n",
    "\n",
    "sum_digits(12345)"
   ]
  },
  {
   "cell_type": "code",
   "execution_count": 12,
   "metadata": {},
   "outputs": [
    {
     "data": {
      "text/plain": [
       "(1, 120, 1, 120)"
      ]
     },
     "execution_count": 12,
     "metadata": {},
     "output_type": "execute_result"
    }
   ],
   "source": [
    "# 使用 recursive v.s. 使用 while \n",
    "# 前者更簡單易懂，使用的變數也相對少\n",
    "\n",
    "def fact1(n):\n",
    "    total = 1\n",
    "    k = 1\n",
    "    while k<=n:\n",
    "        total = total * k \n",
    "        k = k + 1\n",
    "    return total\n",
    "\n",
    "def fact(n):\n",
    "    if n==0:\n",
    "        return 1\n",
    "    else:\n",
    "        return n*fact(n-1)\n",
    "    \n",
    "fact1(0), fact1(5), fact(0), fact(5)\n"
   ]
  },
  {
   "cell_type": "markdown",
   "metadata": {},
   "source": [
    "Mutual recursion 兩個函數互相遞迴"
   ]
  },
  {
   "cell_type": "code",
   "execution_count": 22,
   "metadata": {},
   "outputs": [
    {
     "data": {
      "text/plain": [
       "(20, 0)"
      ]
     },
     "execution_count": 22,
     "metadata": {},
     "output_type": "execute_result"
    }
   ],
   "source": [
    "def split(n):\n",
    "    return n//10, n%10\n",
    "\n",
    "def sum_digits(n):\n",
    "    if n<10:\n",
    "        return n\n",
    "    else:\n",
    "        all_but_last, last = split(n)\n",
    "        return sum_digits(all_but_last) + last \n",
    "    \n",
    "def luhn_sum(n):\n",
    "    all_but_last, last = split(n)\n",
    "    if n < 10:\n",
    "        return n\n",
    "    else:\n",
    "        return luhn_sum_double(all_but_last) + last\n",
    "\n",
    "def luhn_sum_double(n):\n",
    "    all_but_last, last = split(n)\n",
    "    luhn_digits = sum_digits(last*2)\n",
    "    if n < 10:\n",
    "        return luhn_digits\n",
    "    else:\n",
    "        return luhn_sum(all_but_last) + luhn_digits\n",
    "    \n",
    "\n",
    "luhn_sum(5105105105105100), luhn_sum(0)\n"
   ]
  },
  {
   "cell_type": "markdown",
   "metadata": {},
   "source": [
    "Order of recursive calls\n",
    "1. 比較短未必比較好，畢竟程式也要給一般人讀\n",
    "2. 建議寫recursive 要把 base case 放進去會看起來比較清楚"
   ]
  },
  {
   "cell_type": "code",
   "execution_count": 35,
   "metadata": {},
   "outputs": [
    {
     "name": "stdout",
     "output_type": "stream",
     "text": [
      "123\n",
      "12\n",
      "1\n",
      "12\n",
      "123\n",
      "789\n",
      "78\n",
      "7\n",
      "7\n",
      "78\n",
      "789\n"
     ]
    },
    {
     "data": {
      "text/plain": [
       "(None, None)"
      ]
     },
     "execution_count": 35,
     "metadata": {},
     "output_type": "execute_result"
    }
   ],
   "source": [
    "def cascade(n):\n",
    "    if n < 10:\n",
    "        print(n)\n",
    "    else:\n",
    "        print(n)\n",
    "        cascade(n//10)\n",
    "        print(n)\n",
    "\n",
    "\n",
    "def cascade1(n):\n",
    "    print(n)\n",
    "    if n >=10:\n",
    "        cascade1(n//10)\n",
    "        print(n)\n",
    "cascade(123), cascade1(789)"
   ]
  },
  {
   "cell_type": "code",
   "execution_count": 1,
   "metadata": {},
   "outputs": [
    {
     "name": "stdout",
     "output_type": "stream",
     "text": [
      "1\n",
      "12\n",
      "123\n",
      "1234\n",
      "123\n",
      "12\n",
      "1\n"
     ]
    }
   ],
   "source": [
    "# Inverse Cascage, using high order functions\n",
    "def inverse_cascade(n):\n",
    "    grow(n)\n",
    "    print(n)\n",
    "    shrink(n)\n",
    "\n",
    "def f_then_g(f, g, n):\n",
    "    if n: #n=0 是 false, n!=0 是 true\n",
    "        f(n)\n",
    "        g(n)\n",
    "\n",
    "\n",
    "grow = lambda n: f_then_g(grow,print,n//10)\n",
    "shrink = lambda n: f_then_g(print,shrink,n//10)\n",
    "\n",
    "inverse_cascade(1234)\n",
    "\n",
    "        "
   ]
  },
  {
   "cell_type": "code",
   "execution_count": 7,
   "metadata": {},
   "outputs": [
    {
     "data": {
      "text/plain": [
       "9876543311"
      ]
     },
     "execution_count": 7,
     "metadata": {},
     "output_type": "execute_result"
    }
   ],
   "source": [
    "def merge(n1, n2):\n",
    "    \"\"\" Merges two numbers by digit in decreasing order\n",
    "    >>> merge(31, 42)\n",
    "    4321\n",
    "    >>> merge(21, 0)\n",
    "    21\n",
    "    >>> merge (21, 31) \n",
    "    3211\n",
    "    \"\"\"\n",
    "    \"*** YOUR CODE HERE ***\"\n",
    "\n",
    "    if n1==0:\n",
    "        return n2\n",
    "    elif n2==0:\n",
    "        return n1\n",
    "    elif n1%10 <= n2 % 10:\n",
    "        return merge(n1//10 ,n2)*10+n1%10\n",
    "    elif n2%10 < n1%10:\n",
    "        return merge(n1,n2//10)*10+n2%10\n",
    "     \n",
    "merge(941,8765331)\n"
   ]
  },
  {
   "cell_type": "code",
   "execution_count": 78,
   "metadata": {},
   "outputs": [
    {
     "data": {
      "text/plain": [
       "-6"
      ]
     },
     "execution_count": 78,
     "metadata": {},
     "output_type": "execute_result"
    }
   ],
   "source": [
    "def pingpong(n):\n",
    "    \"\"\"Return the nth element of the ping-pong sequence.\n",
    "\n",
    "    >>> pingpong(8)\n",
    "    8\n",
    "    >>> pingpong(10)\n",
    "    6\n",
    "    >>> pingpong(15)\n",
    "    1\n",
    "    >>> pingpong(21)\n",
    "    -1\n",
    "    >>> pingpong(22)\n",
    "    -2\n",
    "    >>> pingpong(30)\n",
    "    -2\n",
    "    >>> pingpong(68)\n",
    "    0\n",
    "    >>> pingpong(69)\n",
    "    -1\n",
    "    >>> pingpong(80)\n",
    "    0\n",
    "    >>> pingpong(81)\n",
    "    1\n",
    "    >>> pingpong(82)\n",
    "    0\n",
    "    >>> pingpong(100)\n",
    "    -6\n",
    "    >>> from construct_check import check\n",
    "    >>> # ban assignment statements\n",
    "    >>> check(HW_SOURCE_FILE, 'pingpong',\n",
    "    ...       ['Assign', 'AnnAssign', 'AugAssign', 'NamedExpr'])\n",
    "    True\n",
    "    \"\"\"\n",
    "    \"*** YOUR CODE HERE ***\"\n",
    "    def n_with_8(k):\n",
    "        if k % 10 == 8:\n",
    "            return 1\n",
    "        elif k < 10:\n",
    "            return 0\n",
    "        else:\n",
    "            return n_with_8( k // 10 )\n",
    "        \n",
    "    def change(n):\n",
    "        if n==1:\n",
    "            return 1\n",
    "        elif n%8==0 or n_with_8(n):\n",
    "            return -change(n-1)\n",
    "        else:\n",
    "            return change(n-1)\n",
    "        \n",
    "    if n==1:\n",
    "        return 1\n",
    "    else:\n",
    "        return pingpong(n-1) + change(n-1)\n",
    "\n",
    "pingpong(100)\n"
   ]
  },
  {
   "cell_type": "code",
   "execution_count": null,
   "metadata": {},
   "outputs": [],
   "source": []
  }
 ],
 "metadata": {
  "kernelspec": {
   "display_name": "Python 3",
   "language": "python",
   "name": "python3"
  },
  "language_info": {
   "codemirror_mode": {
    "name": "ipython",
    "version": 3
   },
   "file_extension": ".py",
   "mimetype": "text/x-python",
   "name": "python",
   "nbconvert_exporter": "python",
   "pygments_lexer": "ipython3",
   "version": "3.11.4"
  },
  "orig_nbformat": 4
 },
 "nbformat": 4,
 "nbformat_minor": 2
}
