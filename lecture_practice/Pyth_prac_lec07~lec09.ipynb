{
 "cells": [
  {
   "cell_type": "code",
   "execution_count": 1,
   "metadata": {},
   "outputs": [
    {
     "data": {
      "text/plain": [
       "4"
      ]
     },
     "execution_count": 1,
     "metadata": {},
     "output_type": "execute_result"
    }
   ],
   "source": [
    "a=1\n",
    "def f(g):\n",
    "    a=2\n",
    "    return lambda y: a*g(y)\n",
    "f(lambda y : a+y)(a)"
   ]
  },
  {
   "cell_type": "code",
   "execution_count": 6,
   "metadata": {},
   "outputs": [
    {
     "data": {
      "text/plain": [
       "(3, True)"
      ]
     },
     "execution_count": 6,
     "metadata": {},
     "output_type": "execute_result"
    }
   ],
   "source": [
    "def search(f):\n",
    "    x=0\n",
    "    while True:\n",
    "        if f(x):\n",
    "            return x\n",
    "        x += 1\n",
    "#也可以\n",
    "def search(f):\n",
    "    x=0\n",
    "    while not f(x):\n",
    "        x += 1\n",
    "        \n",
    "def is_three(x):\n",
    "    return x==3\n",
    "search(is_three), is_three(3)"
   ]
  },
  {
   "cell_type": "code",
   "execution_count": 8,
   "metadata": {},
   "outputs": [
    {
     "data": {
      "text/plain": [
       "11"
      ]
     },
     "execution_count": 8,
     "metadata": {},
     "output_type": "execute_result"
    }
   ],
   "source": [
    "def square(x):\n",
    "    return x*x\n",
    "def positive(x):\n",
    "    return max(0, square(x)-100)\n",
    "search(positive)"
   ]
  },
  {
   "cell_type": "code",
   "execution_count": 11,
   "metadata": {},
   "outputs": [
    {
     "data": {
      "text/plain": [
       "16"
      ]
     },
     "execution_count": 11,
     "metadata": {},
     "output_type": "execute_result"
    }
   ],
   "source": [
    "def inverse(f):\n",
    "    #return  g(y) s.t. g(f(x))=x\n",
    "    return lambda y : search(lambda x: f(x)==y)\n",
    "sqrt=inverse(square)\n",
    "sqrt(256)"
   ]
  },
  {
   "cell_type": "markdown",
   "metadata": {},
   "source": [
    "def 可以去帶if 嗎?\n",
    "#不行\n",
    "Control statement 的重要性"
   ]
  },
  {
   "cell_type": "code",
   "execution_count": 12,
   "metadata": {},
   "outputs": [
    {
     "ename": "ModuleNotFoundError",
     "evalue": "No module named 'match'",
     "output_type": "error",
     "traceback": [
      "\u001b[1;31m---------------------------------------------------------------------------\u001b[0m",
      "\u001b[1;31mModuleNotFoundError\u001b[0m                       Traceback (most recent call last)",
      "Cell \u001b[1;32mIn[12], line 6\u001b[0m\n\u001b[0;32m      4\u001b[0m     \u001b[39melse\u001b[39;00m:\n\u001b[0;32m      5\u001b[0m         \u001b[39mreturn\u001b[39;00m f\n\u001b[1;32m----> 6\u001b[0m \u001b[39mfrom\u001b[39;00m \u001b[39mmatch\u001b[39;00m \u001b[39mimport\u001b[39;00m sqrt\n\u001b[0;32m      8\u001b[0m \u001b[39mdef\u001b[39;00m \u001b[39mreal_sqrt\u001b[39m(x):\n\u001b[0;32m      9\u001b[0m     \u001b[39mreturn\u001b[39;00m if_(x\u001b[39m>\u001b[39m\u001b[39m=\u001b[39m\u001b[39m0\u001b[39m, sqrt, \u001b[39m0\u001b[39m)\n",
      "\u001b[1;31mModuleNotFoundError\u001b[0m: No module named 'match'"
     ]
    }
   ],
   "source": [
    "def if_(c,t,f):\n",
    "    if c:\n",
    "        return t\n",
    "    else:\n",
    "        return f\n",
    "from match import sqrt\n",
    "\n",
    "def real_sqrt(x):\n",
    "    return if_(x>=0, sqrt, 0)\n",
    "#在outupt 0 之前就因為sqrt fun 產生error\n",
    "sqrt(-16)\n"
   ]
  },
  {
   "cell_type": "code",
   "execution_count": 14,
   "metadata": {},
   "outputs": [
    {
     "data": {
      "text/plain": [
       "(True, False, False)"
      ]
     },
     "execution_count": 14,
     "metadata": {},
     "output_type": "execute_result"
    }
   ],
   "source": [
    "def has_big_sqrt(x):\n",
    "    return x>0 and sqrt(x)>10\n",
    "def reasonable(n):\n",
    "    return n==0 or 1/n !=0\n",
    "has_big_sqrt(121), has_big_sqrt(-121), reasonable(10 **1000) #10的1000次方\n"
   ]
  },
  {
   "cell_type": "markdown",
   "metadata": {},
   "source": []
  },
  {
   "cell_type": "code",
   "execution_count": null,
   "metadata": {},
   "outputs": [],
   "source": []
  }
 ],
 "metadata": {
  "kernelspec": {
   "display_name": "Python 3",
   "language": "python",
   "name": "python3"
  },
  "language_info": {
   "codemirror_mode": {
    "name": "ipython",
    "version": 3
   },
   "file_extension": ".py",
   "mimetype": "text/x-python",
   "name": "python",
   "nbconvert_exporter": "python",
   "pygments_lexer": "ipython3",
   "version": "3.11.4"
  },
  "orig_nbformat": 4
 },
 "nbformat": 4,
 "nbformat_minor": 2
}
